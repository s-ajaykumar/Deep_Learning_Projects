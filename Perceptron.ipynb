{
  "nbformat": 4,
  "nbformat_minor": 0,
  "metadata": {
    "colab": {
      "provenance": [],
      "mount_file_id": "1Tc5Ibdad34a7JB72CA4Mv8yVwx1RiojP",
      "authorship_tag": "ABX9TyOWgvGETR/7nSlFUTEwBucX",
      "include_colab_link": true
    },
    "kernelspec": {
      "name": "python3",
      "display_name": "Python 3"
    },
    "language_info": {
      "name": "python"
    }
  },
  "cells": [
    {
      "cell_type": "markdown",
      "metadata": {
        "id": "view-in-github",
        "colab_type": "text"
      },
      "source": [
        "<a href=\"https://colab.research.google.com/github/s-ajaykumar/Neural_Network_Projects/blob/main/Perceptron.ipynb\" target=\"_parent\"><img src=\"https://colab.research.google.com/assets/colab-badge.svg\" alt=\"Open In Colab\"/></a>"
      ]
    },
    {
      "cell_type": "code",
      "source": [
        "!ls"
      ],
      "metadata": {
        "colab": {
          "base_uri": "https://localhost:8080/"
        },
        "id": "aiCdryYED7SF",
        "outputId": "c7c2d5bf-5db7-4987-887d-98ea84d1fd19"
      },
      "execution_count": 2,
      "outputs": [
        {
          "output_type": "stream",
          "name": "stdout",
          "text": [
            "drive  sample_data\n"
          ]
        }
      ]
    },
    {
      "cell_type": "code",
      "source": [
        "%cd drive/MyDrive/Colab Notebooks"
      ],
      "metadata": {
        "colab": {
          "base_uri": "https://localhost:8080/"
        },
        "id": "523y6hcXETHX",
        "outputId": "543ca334-8f88-421f-cb9e-c8505845a55d"
      },
      "execution_count": 3,
      "outputs": [
        {
          "output_type": "stream",
          "name": "stdout",
          "text": [
            "/content/drive/MyDrive/Colab Notebooks\n"
          ]
        }
      ]
    },
    {
      "cell_type": "code",
      "source": [
        "!ls"
      ],
      "metadata": {
        "colab": {
          "base_uri": "https://localhost:8080/"
        },
        "id": "Rq4nakboEkie",
        "outputId": "7ccc1d84-41ac-42a2-bf20-05565a5f587d"
      },
      "execution_count": 7,
      "outputs": [
        {
          "output_type": "stream",
          "name": "stdout",
          "text": [
            "DataSetPreprocessing_And_Classification_Models.ipynb  Neural-Network-Projects\n",
            "MNIST.ipynb\t\t\t\t\t      Perceptron.ipynb\n"
          ]
        }
      ]
    },
    {
      "cell_type": "code",
      "source": [
        "!git clone https://github.com/s-ajaykumar/Neural_Network_Projects.git"
      ],
      "metadata": {
        "colab": {
          "base_uri": "https://localhost:8080/"
        },
        "id": "W0uQkPuHIqpS",
        "outputId": "97e7ed8d-7fea-47e6-81a8-0e5ebe8f3ac8"
      },
      "execution_count": 10,
      "outputs": [
        {
          "output_type": "stream",
          "name": "stdout",
          "text": [
            "fatal: destination path 'Neural_Network_Projects' already exists and is not an empty directory.\n"
          ]
        }
      ]
    },
    {
      "cell_type": "code",
      "source": [
        "!git add Perceptron.ipynb"
      ],
      "metadata": {
        "colab": {
          "base_uri": "https://localhost:8080/"
        },
        "id": "KeA4kzfJJNTZ",
        "outputId": "f39d1cfa-e01e-42bf-f099-e11d30489983"
      },
      "execution_count": 11,
      "outputs": [
        {
          "output_type": "stream",
          "name": "stdout",
          "text": [
            "fatal: not a git repository (or any parent up to mount point /content)\n",
            "Stopping at filesystem boundary (GIT_DISCOVERY_ACROSS_FILESYSTEM not set).\n"
          ]
        }
      ]
    },
    {
      "cell_type": "code",
      "source": [
        "!git add Perceptron.ipynb"
      ],
      "metadata": {
        "colab": {
          "base_uri": "https://localhost:8080/"
        },
        "id": "wOxQwp-_Ctql",
        "outputId": "ab785acb-b92d-44d3-eb84-dd48289ce6d2"
      },
      "execution_count": 6,
      "outputs": [
        {
          "output_type": "stream",
          "name": "stdout",
          "text": [
            "fatal: not a git repository (or any parent up to mount point /content)\n",
            "Stopping at filesystem boundary (GIT_DISCOVERY_ACROSS_FILESYSTEM not set).\n"
          ]
        }
      ]
    },
    {
      "cell_type": "code",
      "source": [
        "import pylab\n",
        "from matplotlib import gridspec\n",
        "from sklearn.datasets import make_classification\n",
        "import numpy as np\n",
        "from ipywidgets import interact, interactive, fixed\n",
        "import ipywidgets as widgets\n",
        "import pickle\n",
        "import os\n",
        "import gzip\n",
        "\n",
        "# pick the seed for reproducability - change it to explore the effects of random variations\n",
        "np.random.seed(1)\n",
        "import random"
      ],
      "metadata": {
        "id": "loEEVQe7rUB8"
      },
      "execution_count": null,
      "outputs": []
    },
    {
      "cell_type": "code",
      "source": [],
      "metadata": {
        "id": "V2nCbV9rCAc7"
      },
      "execution_count": null,
      "outputs": []
    },
    {
      "cell_type": "code",
      "source": [
        "n = 50\n",
        "X, Y = make_classification(n_samples = n, n_features=2,\n",
        "                           n_redundant=0, n_informative=2, flip_y=0)\n",
        "Y = Y*2-1 # convert initial 0/1 values into -1/1\n",
        "X = X.astype(np.float32); Y = Y.astype(np.int32) # features - float, label - int\n",
        "\n",
        "# Split the dataset into training and test\n",
        "train_x, test_x = np.split(X, [ n*8//10])\n",
        "train_labels, test_labels = np.split(Y, [n*8//10])\n",
        "print(\"Features:\\n\",train_x[0:4])\n",
        "print(\"Labels:\\n\",train_labels[0:4])"
      ],
      "metadata": {
        "colab": {
          "base_uri": "https://localhost:8080/"
        },
        "id": "6ysFtRC0rfWE",
        "outputId": "ef7301c5-1918-4af8-aad4-12c8aa717acd"
      },
      "execution_count": null,
      "outputs": [
        {
          "output_type": "stream",
          "name": "stdout",
          "text": [
            "Features:\n",
            " [[-1.7441838  -1.3952037 ]\n",
            " [ 2.5921783  -0.08124504]\n",
            " [ 0.9218062   0.91789985]\n",
            " [-0.8437018  -0.18738253]]\n",
            "Labels:\n",
            " [-1 -1  1 -1]\n"
          ]
        }
      ]
    },
    {
      "cell_type": "code",
      "source": [
        "pos_samples = np.array([ [t[0], t[1], 1] for i,t in enumerate(train_x)\n",
        "                          if train_labels[i]>0])\n",
        "neg_samples = np.array([ [t[0], t[1], 1] for i,t in enumerate(train_x)\n",
        "                          if train_labels[i]<0])"
      ],
      "metadata": {
        "id": "L9z2RLCOrFjl"
      },
      "execution_count": null,
      "outputs": []
    },
    {
      "cell_type": "code",
      "source": [
        "fig, ax = pylab.subplots(1,1)\n",
        "colors = ['r' if l < 0 else 'b' for l in train_labels]\n",
        "ax.scatter(train_x[:,0],train_x[:,1], c=colors, alpha = 0.7)"
      ],
      "metadata": {
        "colab": {
          "base_uri": "https://localhost:8080/",
          "height": 447
        },
        "id": "EsjDw32926RS",
        "outputId": "d1883803-640d-42b2-ae74-a2e25f9b2bc1"
      },
      "execution_count": null,
      "outputs": [
        {
          "output_type": "execute_result",
          "data": {
            "text/plain": [
              "<matplotlib.collections.PathCollection at 0x7adec364a650>"
            ]
          },
          "metadata": {},
          "execution_count": 32
        },
        {
          "output_type": "display_data",
          "data": {
            "text/plain": [
              "<Figure size 640x480 with 1 Axes>"
            ],
            "image/png": "[encoded data removed]"
          },
          "metadata": {}
        }
      ]
    },
    {
      "cell_type": "code",
      "execution_count": null,
      "metadata": {
        "id": "Irj93pELmfy9"
      },
      "outputs": [],
      "source": [
        "def perceptron(pos_samples, neg_samples):\n",
        "  weights = np.zeros((pos_samples.shape[1], 1))\n",
        "  for i in range(100):\n",
        "    pos_sample = random.choice(pos_samples)\n",
        "    neg_sample = random.choice(neg_samples)\n",
        "    z = np.dot(pos_sample, weights)\n",
        "    if z < 0:\n",
        "      weights = weights + pos_sample.reshape(weights.shape)\n",
        "    z = np.dot(neg_sample, weights)\n",
        "    if z >= 0:\n",
        "      weights = weights - neg_sample.reshape(weights.shape)\n",
        "    if i % 10 == 0:\n",
        "      pos_out = np.dot(pos_samples, weights)\n",
        "      neg_out = np.dot(neg_samples, weights)\n",
        "      pos_accuracy = (pos_out >= 0).sum() / float(pos_samples.shape[0])\n",
        "      neg_accuracy = (neg_out < 0).sum() / float(neg_samples.shape[0])\n",
        "      print(\"iteration = {} pos_accuracy = {} neg_accuracy = {}\".format(i,pos_accuracy,neg_accuracy))\n",
        "  return weights"
      ]
    },
    {
      "cell_type": "code",
      "source": [
        "p = perceptron(pos_samples, neg_samples)\n",
        "print(p.transpose())"
      ],
      "metadata": {
        "colab": {
          "base_uri": "https://localhost:8080/"
        },
        "id": "Ocqqqh1Sq9nA",
        "outputId": "dc603579-e507-4249-c34f-ecb34f037575"
      },
      "execution_count": null,
      "outputs": [
        {
          "output_type": "stream",
          "name": "stdout",
          "text": [
            "iteration = 0 pos_accuracy = 0.10526315789473684 neg_accuracy = 0.9047619047619048\n",
            "iteration = 10 pos_accuracy = 0.9473684210526315 neg_accuracy = 0.5238095238095238\n",
            "iteration = 20 pos_accuracy = 0.8421052631578947 neg_accuracy = 1.0\n",
            "iteration = 30 pos_accuracy = 0.8947368421052632 neg_accuracy = 0.9523809523809523\n",
            "iteration = 40 pos_accuracy = 0.9473684210526315 neg_accuracy = 0.8571428571428571\n",
            "iteration = 50 pos_accuracy = 0.9473684210526315 neg_accuracy = 0.8095238095238095\n",
            "iteration = 60 pos_accuracy = 1.0 neg_accuracy = 0.9047619047619048\n",
            "iteration = 70 pos_accuracy = 0.9473684210526315 neg_accuracy = 0.9523809523809523\n",
            "iteration = 80 pos_accuracy = 0.9473684210526315 neg_accuracy = 0.9523809523809523\n",
            "iteration = 90 pos_accuracy = 0.9473684210526315 neg_accuracy = 0.9523809523809523\n",
            "[[-2.53037882  4.92740381  1.        ]]\n"
          ]
        }
      ]
    },
    {
      "cell_type": "code",
      "source": [
        "pos_samples = np.array([[]])\n",
        "                          if train_labels[i]>0])\n",
        "neg_samples = np.array([ [t[0], t[1], 1] for i,t in enumerate(train_x)\n",
        "                          if train_labels[i]<0])"
      ],
      "metadata": {
        "id": "wAtRmqXTHOqL"
      },
      "execution_count": null,
      "outputs": []
    },
    {
      "cell_type": "code",
      "execution_count": null,
      "metadata": {
        "id": "J6NW5TqBHZUm"
      },
      "outputs": [],
      "source": [
        "def perceptron(pos_samples, neg_samples):\n",
        "  weights = np.zeros((pos_samples.shape[1], 1))\n",
        "  for i in range(100):\n",
        "    pos_sample = random.choice(pos_samples)\n",
        "    neg_sample = random.choice(neg_samples)\n",
        "    z = np.dot(pos_sample, weights)\n",
        "    if z < 0:\n",
        "      weights = weights + pos_sample.reshape(weights.shape)\n",
        "    z = np.dot(neg_sample, weights)\n",
        "    if z >= 0:\n",
        "      weights = weights - neg_sample.reshape(weights.shape)\n",
        "    if i % 10 == 0:\n",
        "      pos_out = np.dot(pos_samples, weights)\n",
        "      neg_out = np.dot(neg_samples, weights)\n",
        "      pos_accuracy = (pos_out >= 0).sum() / float(pos_samples.shape[0])\n",
        "      neg_accuracy = (neg_out < 0).sum() / float(neg_samples.shape[0])\n",
        "      print(\"iteration = {} pos_accuracy = {} neg_accuracy = {}\".format(i,pos_accuracy,neg_accuracy))\n",
        "  return weights"
      ]
    }
  ]
}