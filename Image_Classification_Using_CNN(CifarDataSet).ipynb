{
  "nbformat": 4,
  "nbformat_minor": 0,
  "metadata": {
    "colab": {
      "provenance": [],
      "authorship_tag": "ABX9TyO3Mg8gQs/wILH7wKb49Rf6",
      "include_colab_link": true
    },
    "kernelspec": {
      "name": "python3",
      "display_name": "Python 3"
    },
    "language_info": {
      "name": "python"
    }
  },
  "cells": [
    {
      "cell_type": "markdown",
      "metadata": {
        "id": "view-in-github",
        "colab_type": "text"
      },
      "source": [
        "<a href=\"https://colab.research.google.com/github/s-ajaykumar/Deep_Learning_Projects/blob/main/Image_Classification_Using_CNN(CifarDataSet).ipynb\" target=\"_parent\"><img src=\"https://colab.research.google.com/assets/colab-badge.svg\" alt=\"Open In Colab\"/></a>"
      ]
    },
    {
      "cell_type": "code",
      "execution_count": 58,
      "metadata": {
        "id": "qsPtjyf55Mhh"
      },
      "outputs": [],
      "source": [
        "# importing libraries\n",
        "import tensorflow as tf\n",
        "from tensorflow.keras import layers, models\n",
        "import matplotlib.pyplot as plt\n",
        "import numpy as np"
      ]
    },
    {
      "cell_type": "code",
      "source": [
        "# importing data\n",
        "(X_train, y_train), (X_test, y_test) = tf.keras.datasets.cifar10.load_data()\n",
        "\n",
        "# data exploration\n",
        "print(X_train.shape)\n",
        "print(y_train.shape)\n",
        "print(y_train[:5])\n",
        "print(X_test.shape)\n",
        "print(y_test.shape)\n",
        "\n",
        "# Converting 2d array into 1d array\n",
        "y_train = y_train.reshape(-1,)\n",
        "y_test = y_test.reshape(-1,)\n",
        "print(y_train[:5])\n",
        "print(y_test[:5])\n"
      ],
      "metadata": {
        "colab": {
          "base_uri": "https://localhost:8080/"
        },
        "id": "wMk0uHU65khS",
        "outputId": "5bb96d25-886f-4b5c-98ae-40b25ae51f14"
      },
      "execution_count": 85,
      "outputs": [
        {
          "output_type": "stream",
          "name": "stdout",
          "text": [
            "(50000, 32, 32, 3)\n",
            "(50000, 1)\n",
            "[[6]\n",
            " [9]\n",
            " [9]\n",
            " [4]\n",
            " [1]]\n",
            "(10000, 32, 32, 3)\n",
            "(10000, 1)\n",
            "[6 9 9 4 1]\n",
            "[3 8 8 0 6]\n"
          ]
        }
      ]
    },
    {
      "cell_type": "code",
      "source": [
        "plt.figure(figsize = (10,2))\n",
        "plt.imshow(X_train[0])\n",
        "plt.xlabel(y_train[0])"
      ],
      "metadata": {
        "colab": {
          "base_uri": "https://localhost:8080/",
          "height": 254
        },
        "id": "wl9IZjer7hiZ",
        "outputId": "f4e8afaa-ab6e-4032-ec07-58d504d1d90f"
      },
      "execution_count": 81,
      "outputs": [
        {
          "output_type": "execute_result",
          "data": {
            "text/plain": [
              "Text(0.5, 0, '[6]')"
            ]
          },
          "metadata": {},
          "execution_count": 81
        },
        {
          "output_type": "display_data",
          "data": {
            "text/plain": [
              "<Figure size 1000x200 with 1 Axes>"
            ],
            "image/png": "[encoded data removed]"
          },
          "metadata": {}
        }
      ]
    },
    {
      "cell_type": "code",
      "source": [
        "model = models.Sequential([\n",
        "    # Convolutional layer\n",
        "    layers.Conv2D(filters = 32, kernel_size = (3,3), activation = 'relu', input_shape = (32,32,3) ),\n",
        "    layers.MaxPooling2D((2,2)),\n",
        "\n",
        "    layers.Conv2D(filters = 64, kernel_size = (3,3), activation = 'relu'),\n",
        "    layers.MaxPooling2D((2,2)),\n",
        "\n",
        "    # network layer\n",
        "    layers.Flatten(),\n",
        "    layers.Dense(1000, activation = 'relu',),\n",
        "    layers.Dense(1000, activation = 'softmax',)\n",
        "])"
      ],
      "metadata": {
        "id": "j-5PJRPF9V1n"
      },
      "execution_count": 101,
      "outputs": []
    },
    {
      "cell_type": "code",
      "source": [
        "model.compile(optimizer = 'adam', loss = 'sparse_categorical_crossentropy', metrics = ['Accuracy'])"
      ],
      "metadata": {
        "id": "859-vdnmJMon"
      },
      "execution_count": 102,
      "outputs": []
    },
    {
      "cell_type": "code",
      "source": [
        "model.fit(X_train, y_train, epochs = 10)"
      ],
      "metadata": {
        "colab": {
          "base_uri": "https://localhost:8080/"
        },
        "id": "3TEnPjuOKDZm",
        "outputId": "5098860e-d858-4140-d477-038bc1099bf2"
      },
      "execution_count": 105,
      "outputs": [
        {
          "output_type": "stream",
          "name": "stdout",
          "text": [
            "Epoch 1/10\n",
            "1563/1563 [==============================] - 129s 83ms/step - loss: 1.3057 - Accuracy: 0.5384\n",
            "Epoch 2/10\n",
            "1563/1563 [==============================] - 127s 81ms/step - loss: 1.1146 - Accuracy: 0.6118\n",
            "Epoch 3/10\n",
            "1563/1563 [==============================] - 131s 84ms/step - loss: 0.9590 - Accuracy: 0.6704\n",
            "Epoch 4/10\n",
            "1563/1563 [==============================] - 130s 83ms/step - loss: 0.8094 - Accuracy: 0.7230\n",
            "Epoch 5/10\n",
            "1563/1563 [==============================] - 129s 82ms/step - loss: 0.6644 - Accuracy: 0.7773\n",
            "Epoch 6/10\n",
            "1563/1563 [==============================] - 129s 82ms/step - loss: 0.5326 - Accuracy: 0.8209\n",
            "Epoch 7/10\n",
            "1563/1563 [==============================] - 126s 80ms/step - loss: 0.4364 - Accuracy: 0.8585\n",
            "Epoch 8/10\n",
            "1563/1563 [==============================] - 127s 81ms/step - loss: 0.3797 - Accuracy: 0.8804\n",
            "Epoch 9/10\n",
            "1563/1563 [==============================] - 124s 79ms/step - loss: 0.3492 - Accuracy: 0.8922\n",
            "Epoch 10/10\n",
            "1563/1563 [==============================] - 128s 82ms/step - loss: 0.3053 - Accuracy: 0.9089\n"
          ]
        },
        {
          "output_type": "execute_result",
          "data": {
            "text/plain": [
              "<keras.src.callbacks.History at 0x7a256ff2cbb0>"
            ]
          },
          "metadata": {},
          "execution_count": 105
        }
      ]
    },
    {
      "cell_type": "code",
      "source": [
        "model.evaluate(X_test, y_test)"
      ],
      "metadata": {
        "colab": {
          "base_uri": "https://localhost:8080/"
        },
        "id": "GsVqR2EYRAmB",
        "outputId": "85ed1e88-0e42-4797-d037-6812585d95e7"
      },
      "execution_count": 107,
      "outputs": [
        {
          "output_type": "stream",
          "name": "stdout",
          "text": [
            "313/313 [==============================] - 7s 23ms/step - loss: 2.7166 - Accuracy: 0.6018\n"
          ]
        },
        {
          "output_type": "execute_result",
          "data": {
            "text/plain": [
              "[2.7165989875793457, 0.6018000245094299]"
            ]
          },
          "metadata": {},
          "execution_count": 107
        }
      ]
    },
    {
      "cell_type": "code",
      "source": [
        "model.predict(X_test[:5])"
      ],
      "metadata": {
        "colab": {
          "base_uri": "https://localhost:8080/"
        },
        "id": "gqahMZ76Xw12",
        "outputId": "2ae02012-ea0f-4eaa-87e2-73b157827494"
      },
      "execution_count": 113,
      "outputs": [
        {
          "output_type": "stream",
          "name": "stdout",
          "text": [
            "1/1 [==============================] - 0s 94ms/step\n"
          ]
        },
        {
          "output_type": "execute_result",
          "data": {
            "text/plain": [
              "array([[1.7315922e-03, 4.7481162e-03, 3.1724009e-03, ..., 2.3079103e-29,\n",
              "        1.3714879e-28, 1.2396135e-27],\n",
              "       [6.7604183e-06, 3.1877786e-02, 1.7737845e-07, ..., 0.0000000e+00,\n",
              "        0.0000000e+00, 0.0000000e+00],\n",
              "       [2.0800550e-01, 2.2319221e-01, 1.3743527e-01, ..., 2.0046769e-19,\n",
              "        1.0995415e-19, 2.3924375e-20],\n",
              "       [9.9875462e-01, 5.5362569e-05, 6.0956327e-06, ..., 1.2770982e-33,\n",
              "        5.6673485e-34, 2.3632492e-35],\n",
              "       [3.8434846e-12, 6.6182363e-12, 4.0533771e-05, ..., 0.0000000e+00,\n",
              "        0.0000000e+00, 0.0000000e+00]], dtype=float32)"
            ]
          },
          "metadata": {},
          "execution_count": 113
        }
      ]
    },
    {
      "cell_type": "code",
      "source": [
        "y_pred = [np.argmax(x) for x in output]\n",
        "y_pred"
      ],
      "metadata": {
        "colab": {
          "base_uri": "https://localhost:8080/"
        },
        "id": "dtCL0U7uYPLK",
        "outputId": "9ab762cf-35d4-45ce-8152-d5bc4c6ec5ac"
      },
      "execution_count": 114,
      "outputs": [
        {
          "output_type": "execute_result",
          "data": {
            "text/plain": [
              "[3, 8, 9, 0, 4]"
            ]
          },
          "metadata": {},
          "execution_count": 114
        }
      ]
    },
    {
      "cell_type": "code",
      "source": [
        "y_test[:5]"
      ],
      "metadata": {
        "colab": {
          "base_uri": "https://localhost:8080/"
        },
        "id": "T1q0MTKXYx98",
        "outputId": "bb0fd3f6-19f3-4c27-d591-6584e3a407fc"
      },
      "execution_count": 115,
      "outputs": [
        {
          "output_type": "execute_result",
          "data": {
            "text/plain": [
              "array([3, 8, 8, 0, 6], dtype=uint8)"
            ]
          },
          "metadata": {},
          "execution_count": 115
        }
      ]
    }
  ]
}